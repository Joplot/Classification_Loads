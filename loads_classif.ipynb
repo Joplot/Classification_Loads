{
 "cells": [
  {
   "cell_type": "code",
   "execution_count": 101,
   "metadata": {},
   "outputs": [],
   "source": [
    "# imports\n",
    "import os\n",
    "import sys\n",
    "import pandas as pd\n",
    "import numpy as np\n",
    "import matplotlib.pyplot as plt\n",
    "import seaborn as sns\n",
    "import scipy\n",
    "import warnings"
   ]
  },
  {
   "cell_type": "markdown",
   "metadata": {},
   "source": [
    "## Load data"
   ]
  },
  {
   "cell_type": "code",
   "execution_count": 7,
   "metadata": {},
   "outputs": [],
   "source": [
    "# load data\n",
    "root = os.getcwd()\n",
    "dataset_dir = os.path.join(root, 'Data-15')"
   ]
  },
  {
   "cell_type": "code",
   "execution_count": null,
   "metadata": {},
   "outputs": [],
   "source": [
    "raw_df = pd.DataFrame()\n",
    "raw_df.columns"
   ]
  },
  {
   "cell_type": "code",
   "execution_count": 90,
   "metadata": {},
   "outputs": [
    {
     "name": "stdout",
     "output_type": "stream",
     "text": [
      "['Fun', 'HairDryer', 'Heater', 'LightBulb', 'Refrigirator']\n"
     ]
    }
   ],
   "source": [
    "print(list_of_folders)"
   ]
  },
  {
   "cell_type": "code",
   "execution_count": 102,
   "metadata": {},
   "outputs": [
    {
     "name": "stdout",
     "output_type": "stream",
     "text": [
      "Fun\n",
      "HairDryer\n",
      "Heater\n",
      "LightBulb\n",
      "Refrigirator\n"
     ]
    },
    {
     "data": {
      "text/html": [
       "<div>\n",
       "<style scoped>\n",
       "    .dataframe tbody tr th:only-of-type {\n",
       "        vertical-align: middle;\n",
       "    }\n",
       "\n",
       "    .dataframe tbody tr th {\n",
       "        vertical-align: top;\n",
       "    }\n",
       "\n",
       "    .dataframe thead th {\n",
       "        text-align: right;\n",
       "    }\n",
       "</style>\n",
       "<table border=\"1\" class=\"dataframe\">\n",
       "  <thead>\n",
       "    <tr style=\"text-align: right;\">\n",
       "      <th></th>\n",
       "      <th>label</th>\n",
       "      <th>time_sig</th>\n",
       "    </tr>\n",
       "  </thead>\n",
       "  <tbody>\n",
       "    <tr>\n",
       "      <th>0</th>\n",
       "      <td>Fun</td>\n",
       "      <td>[-2.4666667, -2.4627452, -2.492157, -2.484314,...</td>\n",
       "    </tr>\n",
       "    <tr>\n",
       "      <th>1</th>\n",
       "      <td>Fun</td>\n",
       "      <td>[-2.5058825, -2.5186276, -2.516667, -2.509804,...</td>\n",
       "    </tr>\n",
       "    <tr>\n",
       "      <th>2</th>\n",
       "      <td>Fun</td>\n",
       "      <td>[-2.4617648, -2.4627452, -2.4862747, -2.480392...</td>\n",
       "    </tr>\n",
       "    <tr>\n",
       "      <th>3</th>\n",
       "      <td>Fun</td>\n",
       "      <td>[-2.4715688, -2.4833336, -2.4990199, -2.512745...</td>\n",
       "    </tr>\n",
       "    <tr>\n",
       "      <th>4</th>\n",
       "      <td>Fun</td>\n",
       "      <td>[-2.5000002, -2.527451, -2.5147061, -2.5068629...</td>\n",
       "    </tr>\n",
       "  </tbody>\n",
       "</table>\n",
       "</div>"
      ],
      "text/plain": [
       "  label                                           time_sig\n",
       "0   Fun  [-2.4666667, -2.4627452, -2.492157, -2.484314,...\n",
       "1   Fun  [-2.5058825, -2.5186276, -2.516667, -2.509804,...\n",
       "2   Fun  [-2.4617648, -2.4627452, -2.4862747, -2.480392...\n",
       "3   Fun  [-2.4715688, -2.4833336, -2.4990199, -2.512745...\n",
       "4   Fun  [-2.5000002, -2.527451, -2.5147061, -2.5068629..."
      ]
     },
     "execution_count": 102,
     "metadata": {},
     "output_type": "execute_result"
    }
   ],
   "source": [
    "#ignore warnings\n",
    "warnings.filterwarnings('ignore')\n",
    "\n",
    "list_of_folders = os.listdir(dataset_dir)\n",
    "df = pd.DataFrame(columns=['label', 'time_sig'])\n",
    "#read matlab files\n",
    "for folder in list_of_folders:\n",
    "    path = os.path.join(dataset_dir, folder)\n",
    "    list_of_files = os.listdir(path)\n",
    "    label = str(folder)\n",
    "    print(label)\n",
    "    for file in list_of_files:\n",
    "        if file.endswith('.mat'):\n",
    "            #read matlab file\n",
    "            mat = scipy.io.loadmat(os.path.join(path, file))\n",
    "            #get data\n",
    "            df = df.append({'label': label, 'time_sig': mat['tpd']['Data'][0][0][0]}, ignore_index=True)\n",
    "\n",
    "df.head()"
   ]
  },
  {
   "cell_type": "code",
   "execution_count": 118,
   "metadata": {},
   "outputs": [
    {
     "data": {
      "text/html": [
       "<div>\n",
       "<style scoped>\n",
       "    .dataframe tbody tr th:only-of-type {\n",
       "        vertical-align: middle;\n",
       "    }\n",
       "\n",
       "    .dataframe tbody tr th {\n",
       "        vertical-align: top;\n",
       "    }\n",
       "\n",
       "    .dataframe thead th {\n",
       "        text-align: right;\n",
       "    }\n",
       "</style>\n",
       "<table border=\"1\" class=\"dataframe\">\n",
       "  <thead>\n",
       "    <tr style=\"text-align: right;\">\n",
       "      <th></th>\n",
       "      <th>label</th>\n",
       "      <th>time_sig</th>\n",
       "      <th>fft</th>\n",
       "    </tr>\n",
       "  </thead>\n",
       "  <tbody>\n",
       "    <tr>\n",
       "      <th>0</th>\n",
       "      <td>Fun</td>\n",
       "      <td>[-2.4666667, -2.4627452, -2.492157, -2.484314,...</td>\n",
       "      <td>[(198.70590213674586+0j), (-2.232318014673014+...</td>\n",
       "    </tr>\n",
       "    <tr>\n",
       "      <th>1</th>\n",
       "      <td>Fun</td>\n",
       "      <td>[-2.5058825, -2.5186276, -2.516667, -2.509804,...</td>\n",
       "      <td>[(207.29315045813564+0j), (0.06328588688745879...</td>\n",
       "    </tr>\n",
       "    <tr>\n",
       "      <th>2</th>\n",
       "      <td>Fun</td>\n",
       "      <td>[-2.4617648, -2.4627452, -2.4862747, -2.480392...</td>\n",
       "      <td>[(205.7147244606167+0j), (0.4037775054453768-1...</td>\n",
       "    </tr>\n",
       "    <tr>\n",
       "      <th>3</th>\n",
       "      <td>Fun</td>\n",
       "      <td>[-2.4715688, -2.4833336, -2.4990199, -2.512745...</td>\n",
       "      <td>[(203.39020591438748+0j), (-1.8787844941233909...</td>\n",
       "    </tr>\n",
       "    <tr>\n",
       "      <th>4</th>\n",
       "      <td>Fun</td>\n",
       "      <td>[-2.5000002, -2.527451, -2.5147061, -2.5068629...</td>\n",
       "      <td>[(206.01667345920578+0j), (0.9877989466016359+...</td>\n",
       "    </tr>\n",
       "  </tbody>\n",
       "</table>\n",
       "</div>"
      ],
      "text/plain": [
       "  label                                           time_sig  \\\n",
       "0   Fun  [-2.4666667, -2.4627452, -2.492157, -2.484314,...   \n",
       "1   Fun  [-2.5058825, -2.5186276, -2.516667, -2.509804,...   \n",
       "2   Fun  [-2.4617648, -2.4627452, -2.4862747, -2.480392...   \n",
       "3   Fun  [-2.4715688, -2.4833336, -2.4990199, -2.512745...   \n",
       "4   Fun  [-2.5000002, -2.527451, -2.5147061, -2.5068629...   \n",
       "\n",
       "                                                 fft  \n",
       "0  [(198.70590213674586+0j), (-2.232318014673014+...  \n",
       "1  [(207.29315045813564+0j), (0.06328588688745879...  \n",
       "2  [(205.7147244606167+0j), (0.4037775054453768-1...  \n",
       "3  [(203.39020591438748+0j), (-1.8787844941233909...  \n",
       "4  [(206.01667345920578+0j), (0.9877989466016359+...  "
      ]
     },
     "execution_count": 118,
     "metadata": {},
     "output_type": "execute_result"
    }
   ],
   "source": [
    "#add fft column\n",
    "df['fft'] = df['time_sig'].apply(lambda x: np.fft.fft(x))\n",
    "df.head()"
   ]
  },
  {
   "cell_type": "code",
   "execution_count": null,
   "metadata": {},
   "outputs": [],
   "source": [
    "x_cor = "
   ]
  },
  {
   "cell_type": "code",
   "execution_count": 153,
   "metadata": {},
   "outputs": [
    {
     "data": {
      "text/plain": [
       "(75, 75)"
      ]
     },
     "execution_count": 153,
     "metadata": {},
     "output_type": "execute_result"
    }
   ],
   "source": [
    "x = abs(np.array(df['fft'].to_list()))\n",
    "#correlation matrix\n",
    "x_cor = np.corrcoef(x)\n",
    "x_cor.shape"
   ]
  },
  {
   "cell_type": "code",
   "execution_count": 154,
   "metadata": {},
   "outputs": [
    {
     "data": {
      "image/png": "[encoded data removed]",
      "text/plain": [
       "<Figure size 600x600 with 1 Axes>"
      ]
     },
     "metadata": {},
     "output_type": "display_data"
    }
   ],
   "source": [
    "#apply PCA to fft column\n",
    "from sklearn.decomposition import PCA\n",
    "pca = PCA(n_components=2)\n",
    "principalComponents = pca.fit_transform(x_cor)\n",
    "\n",
    "#plot PCA\n",
    "principalDf = pd.DataFrame(data = principalComponents\n",
    "             , columns = ['principal component 1', 'principal component 2'])\n",
    "principalDf.head()\n",
    "\n",
    "plt.figure(figsize=(6,6))\n",
    "sns.scatterplot(x=principalDf['principal component 1'], y=principalDf['principal component 2'], hue=df['label'])  \n",
    "#save figure\n",
    "plt.savefig('pca.png')  \n",
    "plt.show()"
   ]
  },
  {
   "cell_type": "code",
   "execution_count": 88,
   "metadata": {},
   "outputs": [
    {
     "name": "stdout",
     "output_type": "stream",
     "text": [
      "[('Name', 'O'), ('DateTime', 'O'), ('RangeMin', 'O'), ('RangeMax', 'O'), ('SampleFrequency', 'O'), ('PreSampleCount', 'O'), ('StartValue', 'O'), ('Unit', 'O'), ('Data', 'O')]\n"
     ]
    }
   ],
   "source": [
    "print(mat['tpd'][0].dtype)"
   ]
  },
  {
   "cell_type": "code",
   "execution_count": 80,
   "metadata": {},
   "outputs": [
    {
     "name": "stdout",
     "output_type": "stream",
     "text": [
      "[-2.0068629 -2.0049021 -2.0215688 ... -1.9588237 -2.0078433 -1.9941177]\n"
     ]
    }
   ],
   "source": [
    "print(mat['tpd']['Data'][0][0][0])"
   ]
  }
 ],
 "metadata": {
  "kernelspec": {
   "display_name": "Python 3",
   "language": "python",
   "name": "python3"
  },
  "language_info": {
   "codemirror_mode": {
    "name": "ipython",
    "version": 3
   },
   "file_extension": ".py",
   "mimetype": "text/x-python",
   "name": "python",
   "nbconvert_exporter": "python",
   "pygments_lexer": "ipython3",
   "version": "3.11.2"
  }
 },
 "nbformat": 4,
 "nbformat_minor": 2
}
